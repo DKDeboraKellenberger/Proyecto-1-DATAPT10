{
 "cells": [
  {
   "cell_type": "code",
   "execution_count": 1,
   "metadata": {},
   "outputs": [],
   "source": [
    "import pandas as pd\n",
    "import numpy as np\n",
    "import ast"
   ]
  },
  {
   "cell_type": "code",
   "execution_count": 2,
   "metadata": {},
   "outputs": [
    {
     "name": "stderr",
     "output_type": "stream",
     "text": [
      "C:\\Users\\debor\\AppData\\Local\\Temp\\ipykernel_5096\\4200754764.py:1: DtypeWarning: Columns (10) have mixed types. Specify dtype option on import or set low_memory=False.\n",
      "  df_movies = pd.read_csv(r'Movies\\movies_dataset.csv')\n"
     ]
    }
   ],
   "source": [
    "df_movies = pd.read_csv(r'Movies\\movies_dataset.csv')"
   ]
  },
  {
   "cell_type": "code",
   "execution_count": 3,
   "metadata": {},
   "outputs": [],
   "source": [
    "# Se convierte la comuna 'popularity' a tipo float, para poder pasar de csv a parquet\n",
    "df_movies['popularity'] = pd.to_numeric(df_movies['popularity'], errors='coerce')"
   ]
  },
  {
   "cell_type": "code",
   "execution_count": 4,
   "metadata": {},
   "outputs": [],
   "source": [
    "df_movies.to_parquet(r'Movies\\df_movies.parquet', index=False)"
   ]
  },
  {
   "cell_type": "markdown",
   "metadata": {},
   "source": [
    "Desanidado 'belongs_to_collection'"
   ]
  },
  {
   "cell_type": "code",
   "execution_count": 5,
   "metadata": {},
   "outputs": [
    {
     "name": "stdout",
     "output_type": "stream",
     "text": [
      "[<class 'str'> <class 'float'>]\n"
     ]
    }
   ],
   "source": [
    "# Se verifican tipos de datos: 'str' indica que es una cadena JSON\n",
    "print(df_movies['belongs_to_collection'].apply(type).unique())"
   ]
  },
  {
   "cell_type": "code",
   "execution_count": 6,
   "metadata": {},
   "outputs": [
    {
     "name": "stdout",
     "output_type": "stream",
     "text": [
      "   collection_id            collection_name                       poster_path  \\\n",
      "0        10194.0       Toy Story Collection  /rhIRbceoE9lR4veEXuwCC2wARtG.jpg   \n",
      "1            NaN                       None  /vzmL6fP7aPKNKPRTFnZmiUfciyV.jpg   \n",
      "2       119050.0  Grumpy Old Men Collection  /6ksm1sjKMFLbO7UY2i6G1ju9SML.jpg   \n",
      "\n",
      "                      backdrop_path  \n",
      "0  /9FBwqcd9IRruEDUrTdcaafOMKUq.jpg  \n",
      "1                              None  \n",
      "2  /hypTnLot2z8wpFS7qwsQHW1uV8u.jpg  \n"
     ]
    }
   ],
   "source": [
    "\"\"\"Se convertirán las cadenas JSON a 'dict', para manejarlas en Python\n",
    "    Luego se extraen los valores de las claves de la columna 'belongs_to_collection'\n",
    "    y con esos valores se crean nuevas columnas para agregarlas al DataSet\n",
    "    \"\"\"\n",
    "def convert_to_dict(x): \n",
    "    if isinstance(x, str):\n",
    "            return ast.literal_eval(x)\n",
    "    return x\n",
    "\n",
    "# Se aplica la funcion a la columna 'belongs_to_collection'\n",
    "df_movies['belongs_to_collection'] = df_movies['belongs_to_collection'].apply(convert_to_dict)\n",
    "\n",
    "# Se crean nuevas columnas con los valores extríados de los diccionarios de 'belongs_to_collection'\n",
    "df_movies['collection_id'] = df_movies['belongs_to_collection'].apply(lambda x: x['id'] if isinstance(x, dict) and 'id' in x else None)\n",
    "df_movies['collection_name'] = df_movies['belongs_to_collection'].apply(lambda x: x['name'] if isinstance(x, dict) and 'name' in x else None)\n",
    "df_movies['poster_path_collection'] = df_movies['belongs_to_collection'].apply(lambda x: x['poster_path'] if isinstance(x, dict) and 'poster_path' in x else None)\n",
    "df_movies['backdrop_path'] = df_movies['belongs_to_collection'].apply(lambda x: x['backdrop_path'] if isinstance(x, dict) and 'backdrop_path' in x else None)\n",
    "\n",
    "print(df_movies[['collection_id','collection_name','poster_path','backdrop_path']].head(3))\n"
   ]
  },
  {
   "cell_type": "code",
   "execution_count": 7,
   "metadata": {},
   "outputs": [
    {
     "data": {
      "text/plain": [
       "(45466, 28)"
      ]
     },
     "execution_count": 7,
     "metadata": {},
     "output_type": "execute_result"
    }
   ],
   "source": [
    "df_movies.shape"
   ]
  },
  {
   "cell_type": "code",
   "execution_count": 8,
   "metadata": {},
   "outputs": [
    {
     "name": "stdout",
     "output_type": "stream",
     "text": [
      "collection_id      40975\n",
      "collection_name    40975\n",
      "poster_path          386\n",
      "backdrop_path      42203\n",
      "dtype: int64\n"
     ]
    }
   ],
   "source": [
    "# Se verifican los nulos existentes en cada nueva columna\n",
    "btc_nulls = df_movies[['collection_id','collection_name','poster_path','backdrop_path']].isnull().sum()\n",
    "print(btc_nulls)"
   ]
  },
  {
   "cell_type": "code",
   "execution_count": 9,
   "metadata": {},
   "outputs": [],
   "source": [
    "# Se eliminan los nulos de las columnas desanidadas\n",
    "df_movies.dropna(subset=['collection_id','collection_name','poster_path','backdrop_path'], inplace=True)"
   ]
  },
  {
   "cell_type": "code",
   "execution_count": 10,
   "metadata": {},
   "outputs": [],
   "source": [
    "# Se elimina la columna inicial que se desanidó\n",
    "df_movies = df_movies.drop(columns=['belongs_to_collection'])"
   ]
  },
  {
   "cell_type": "code",
   "execution_count": 11,
   "metadata": {},
   "outputs": [
    {
     "name": "stdout",
     "output_type": "stream",
     "text": [
      "[<class 'float'>]\n"
     ]
    }
   ],
   "source": [
    "# Se verifica el tipo de dato de la columna 'collection_id'\n",
    "print(df_movies['collection_id'].apply(type).unique())"
   ]
  },
  {
   "cell_type": "code",
   "execution_count": 12,
   "metadata": {},
   "outputs": [
    {
     "name": "stdout",
     "output_type": "stream",
     "text": [
      "[<class 'int'>]\n"
     ]
    }
   ],
   "source": [
    "# Se cambia el tipo de dato de la columna 'collection_id' a tipo 'int'\n",
    "df_movies['collection_id'] = df_movies['collection_id'].astype(int)\n",
    "print(df_movies['collection_id'].apply(type).unique())\n"
   ]
  },
  {
   "cell_type": "code",
   "execution_count": 13,
   "metadata": {},
   "outputs": [
    {
     "data": {
      "text/plain": [
       "(3261, 27)"
      ]
     },
     "execution_count": 13,
     "metadata": {},
     "output_type": "execute_result"
    }
   ],
   "source": [
    "df_movies.shape"
   ]
  },
  {
   "cell_type": "markdown",
   "metadata": {},
   "source": [
    "Desanidado 'genres'"
   ]
  },
  {
   "cell_type": "code",
   "execution_count": 14,
   "metadata": {},
   "outputs": [
    {
     "name": "stdout",
     "output_type": "stream",
     "text": [
      "[<class 'str'>]\n"
     ]
    }
   ],
   "source": [
    "# Se verifican tipos de datos: 'str' indica que es una cadena JSON\n",
    "print(df_movies['genres'].apply(type).unique())"
   ]
  },
  {
   "cell_type": "code",
   "execution_count": 15,
   "metadata": {},
   "outputs": [
    {
     "name": "stdout",
     "output_type": "stream",
     "text": [
      "   genres_id genres_name\n",
      "0       16.0   Animation\n",
      "1       35.0      Comedy\n",
      "2    10751.0      Family\n"
     ]
    }
   ],
   "source": [
    "\"\"\"Convertimos las listas de str a dict.\n",
    "  creamos las dos nuevas columnas 'genres_id' y 'genres_name' con sus valores\n",
    "  las concatenamos para formar un df temporal\n",
    "  y luego lo unimos a df_movies\n",
    "    \"\"\"\n",
    "    \n",
    "def convert_to_list_of_dicts(x):\n",
    "    if isinstance(x, str):\n",
    "            return ast.literal_eval(x)\n",
    "    return x\n",
    "\n",
    "# Se aplica la funcion a la columna 'genres'\n",
    "df_movies['genres'] = df_movies['genres'].apply(convert_to_list_of_dicts)\n",
    "\n",
    "# Se crean nuevas columnas con los valores extríados de los diccionarios de 'genres'\n",
    "df_movies['genres_id'] = df_movies['genres'].apply(lambda x: [d['id'] for d in x if isinstance(d, dict) and 'id' in d])\n",
    "df_movies['genres_name'] = df_movies['genres'].apply(lambda x: [d['name'] for d in x if isinstance(d, dict) and 'name' in d])\n",
    "\n",
    "# Se crean df temporales a partir de las listas de 'genres_id' y 'genres_name'\n",
    "# Luego 'stack' convierte esas listas en valores individuales\n",
    "# Se concatenan los df temporales en uno solo que contedrá las columnas 'genres_id' y 'genres_name'\n",
    "temp_df = pd.concat([pd.DataFrame(df_movies['genres_id'].tolist(), index=df_movies.index).stack().reset_index(level=1, drop=True),\n",
    "                     pd.DataFrame(df_movies['genres_name'].tolist(), index=df_movies.index).stack().reset_index(level=1, drop=True)], axis=1)\n",
    "temp_df.columns = ['genres_id', 'genres_name']\n",
    "\n",
    "# Se une el df temporal con df_movies (seeliminaron las columnas originales)\n",
    "df_movies = df_movies.drop(columns=['genres_id', 'genres_name']).join(temp_df).reset_index(drop=True)\n",
    "\n",
    "print(df_movies[['genres_id','genres_name']].head(3))\n"
   ]
  },
  {
   "cell_type": "code",
   "execution_count": 16,
   "metadata": {},
   "outputs": [
    {
     "data": {
      "text/plain": [
       "(8331, 29)"
      ]
     },
     "execution_count": 16,
     "metadata": {},
     "output_type": "execute_result"
    }
   ],
   "source": [
    "df_movies.shape"
   ]
  },
  {
   "cell_type": "code",
   "execution_count": 17,
   "metadata": {},
   "outputs": [
    {
     "name": "stdout",
     "output_type": "stream",
     "text": [
      "genres_id      26\n",
      "genres_name    26\n",
      "dtype: int64\n"
     ]
    }
   ],
   "source": [
    "# Se verifican los nulos existentes en cada nueva columna\n",
    "genres_nulls = df_movies[['genres_id','genres_name']].isnull().sum()\n",
    "print(genres_nulls)"
   ]
  },
  {
   "cell_type": "code",
   "execution_count": 18,
   "metadata": {},
   "outputs": [],
   "source": [
    "# Se eliminan los nulos de las columnas desanidadas\n",
    "df_movies.dropna(subset=['genres_id','genres_name'], inplace=True)"
   ]
  },
  {
   "cell_type": "code",
   "execution_count": 19,
   "metadata": {},
   "outputs": [],
   "source": [
    "# Se elimina la columna inicial que se desanidó\n",
    "df_movies = df_movies.drop(columns=['genres'])"
   ]
  },
  {
   "cell_type": "code",
   "execution_count": 20,
   "metadata": {},
   "outputs": [
    {
     "name": "stdout",
     "output_type": "stream",
     "text": [
      "[<class 'float'>]\n"
     ]
    }
   ],
   "source": [
    "# Se verifica el tipo de dato de la columna 'genres_id'\n",
    "print(df_movies['genres_id'].apply(type).unique())"
   ]
  },
  {
   "cell_type": "code",
   "execution_count": 21,
   "metadata": {},
   "outputs": [
    {
     "name": "stdout",
     "output_type": "stream",
     "text": [
      "[<class 'int'>]\n"
     ]
    }
   ],
   "source": [
    "# Se cambia el tipo de dato de la columna 'genres_id' al tipo 'int'\n",
    "df_movies['genres_id'] = df_movies['genres_id'].astype(int)\n",
    "print(df_movies['genres_id'].apply(type).unique())"
   ]
  },
  {
   "cell_type": "code",
   "execution_count": 22,
   "metadata": {},
   "outputs": [
    {
     "data": {
      "text/plain": [
       "(8305, 28)"
      ]
     },
     "execution_count": 22,
     "metadata": {},
     "output_type": "execute_result"
    }
   ],
   "source": [
    "df_movies.shape"
   ]
  },
  {
   "cell_type": "markdown",
   "metadata": {},
   "source": [
    "Desanidado 'production_companies'"
   ]
  },
  {
   "cell_type": "code",
   "execution_count": 23,
   "metadata": {},
   "outputs": [
    {
     "name": "stdout",
     "output_type": "stream",
     "text": [
      "            prod_comp_name  prod_comp_id\n",
      "0  Pixar Animation Studios           3.0\n",
      "1  Pixar Animation Studios           3.0\n",
      "2  Pixar Animation Studios           3.0\n",
      "3             Warner Bros.        6194.0\n",
      "4           Lancaster Gate       19464.0\n",
      "5             Warner Bros.        6194.0\n",
      "6           Lancaster Gate       19464.0\n",
      "7    Sandollar Productions        5842.0\n",
      "8      Touchstone Pictures        9195.0\n",
      "9           United Artists          60.0\n"
     ]
    }
   ],
   "source": [
    "\"\"\"Convertimos las listas de str a dict.\n",
    "  creamos las dos nuevas columnas 'prod_comp_name' y 'prod_comp_id' con sus valores\n",
    "  las concatenamos para formar un df temporal\n",
    "  y unimos el df temporal a df_movies\n",
    "    \"\"\"\n",
    "\n",
    "def convert_to_list_of_dicts(x):\n",
    "    if isinstance(x, str):\n",
    "            return ast.literal_eval(x)\n",
    "    elif isinstance(x, list):\n",
    "        return x\n",
    "    return []\n",
    "\n",
    "# Se aplica la funcion a la columna 'production_companies'\n",
    "df_movies['production_companies'] = df_movies['production_companies'].apply(convert_to_list_of_dicts)\n",
    "\n",
    "# Se crean nuevas columnas con los valores extríados de los diccionarios de 'production_companies'\n",
    "df_movies['prod_comp_name'] = df_movies['production_companies'].apply(lambda x: [d['name'] for d in x if isinstance(d, dict) and 'name' in d]if isinstance(x, list) else [])\n",
    "df_movies['prod_comp_id'] = df_movies['production_companies'].apply(lambda x: [d['id'] for d in x if isinstance(d, dict) and 'id' in d]if isinstance(x, list) else [])\n",
    "\n",
    "# Se crean df temporales a partir de las listas de 'prod_comp_name' y 'prod_comp_id'\n",
    "# Luego 'stack' comvierte esas listas en valores individuales\n",
    "# Se concatenan los df temporales en uno solo que contendrá las columnas 'prod_comp_name' y 'prod_comp_id'\n",
    "temp_df = pd.concat([pd.DataFrame(df_movies['prod_comp_name'].tolist(), index=df_movies.index).stack().reset_index(level=1, drop=True),\n",
    "                     pd.DataFrame(df_movies['prod_comp_id'].tolist(), index=df_movies.index).stack().reset_index(level=1, drop=True)], axis=1)\n",
    "temp_df.columns = ['prod_comp_name', 'prod_comp_id']\n",
    "\n",
    "# Se une el DataFrame temporal con el original\n",
    "df_movies = df_movies.drop(columns=['prod_comp_id', 'prod_comp_name']).join(temp_df).reset_index(drop=True)\n",
    "\n",
    "print(df_movies[['prod_comp_name', 'prod_comp_id']].head(10))"
   ]
  },
  {
   "cell_type": "code",
   "execution_count": 24,
   "metadata": {},
   "outputs": [
    {
     "data": {
      "text/plain": [
       "(18944, 30)"
      ]
     },
     "execution_count": 24,
     "metadata": {},
     "output_type": "execute_result"
    }
   ],
   "source": [
    "df_movies.shape"
   ]
  },
  {
   "cell_type": "code",
   "execution_count": 25,
   "metadata": {},
   "outputs": [
    {
     "name": "stdout",
     "output_type": "stream",
     "text": [
      "prod_comp_name    614\n",
      "prod_comp_id      614\n",
      "dtype: int64\n"
     ]
    }
   ],
   "source": [
    "# Se verifican los nulos existentes en cada nueva columna\n",
    "prod_nulls = df_movies[['prod_comp_name','prod_comp_id']].isnull().sum()\n",
    "print(prod_nulls)"
   ]
  },
  {
   "cell_type": "code",
   "execution_count": 26,
   "metadata": {},
   "outputs": [],
   "source": [
    "# Se eliminan los nulos de las columnas desanidadas\n",
    "df_movies.dropna(subset=['prod_comp_name','prod_comp_id'], inplace=True)"
   ]
  },
  {
   "cell_type": "code",
   "execution_count": 27,
   "metadata": {},
   "outputs": [],
   "source": [
    "# Se elimina la columna inicial que se desanidó\n",
    "df_movies = df_movies.drop(columns=['production_companies'])"
   ]
  },
  {
   "cell_type": "code",
   "execution_count": 28,
   "metadata": {},
   "outputs": [
    {
     "name": "stdout",
     "output_type": "stream",
     "text": [
      "[<class 'float'>]\n"
     ]
    }
   ],
   "source": [
    "# Se verifica el tipo de dato de la columna 'prod_comp_id'\n",
    "print(df_movies['prod_comp_id'].apply(type).unique())"
   ]
  },
  {
   "cell_type": "code",
   "execution_count": 29,
   "metadata": {},
   "outputs": [
    {
     "name": "stdout",
     "output_type": "stream",
     "text": [
      "[<class 'int'>]\n"
     ]
    }
   ],
   "source": [
    "# Se cambia el tipo de dato de la columna 'prod_comp_id' al tipo 'int'\n",
    "df_movies['prod_comp_id'] = df_movies['prod_comp_id'].astype(int)\n",
    "print(df_movies['prod_comp_id'].apply(type).unique())"
   ]
  },
  {
   "cell_type": "code",
   "execution_count": 30,
   "metadata": {},
   "outputs": [
    {
     "data": {
      "text/plain": [
       "(18330, 29)"
      ]
     },
     "execution_count": 30,
     "metadata": {},
     "output_type": "execute_result"
    }
   ],
   "source": [
    "df_movies.shape"
   ]
  },
  {
   "cell_type": "markdown",
   "metadata": {},
   "source": [
    "Desanidado 'production_countries'"
   ]
  },
  {
   "cell_type": "code",
   "execution_count": 31,
   "metadata": {},
   "outputs": [
    {
     "name": "stdout",
     "output_type": "stream",
     "text": [
      "[<class 'str'>]\n"
     ]
    }
   ],
   "source": [
    "# Se verifican tipos de datos: 'str' indica que es una cadena JSON\n",
    "print(df_movies['production_countries'].apply(type).unique())"
   ]
  },
  {
   "cell_type": "code",
   "execution_count": 32,
   "metadata": {},
   "outputs": [
    {
     "name": "stdout",
     "output_type": "stream",
     "text": [
      "          prod_country_name iso\n",
      "0  United States of America  US\n",
      "1  United States of America  US\n",
      "2  United States of America  US\n",
      "3  United States of America  US\n",
      "4  United States of America  US\n",
      "5  United States of America  US\n",
      "6  United States of America  US\n",
      "7  United States of America  US\n",
      "8  United States of America  US\n",
      "9            United Kingdom  GB\n"
     ]
    }
   ],
   "source": [
    "\"\"\"Convertimos las listas de str a dict.\n",
    "  creamos las dos nuevas columnas 'genres_id' y 'genres_name' con sus valores\n",
    "  las concatenamos para formar un df temporal\n",
    "  y unimos el df temporal a df_movies\n",
    "    \"\"\"\n",
    "\n",
    "def convert_to_list_of_dicts(x):\n",
    "    if isinstance(x, str):\n",
    "            return ast.literal_eval(x)\n",
    "    elif isinstance(x, list):\n",
    "        return x\n",
    "    return []\n",
    "\n",
    "# Se aplica la funcion a la columna 'production_countries'\n",
    "df_movies['production_countries'] = df_movies['production_countries'].apply(convert_to_list_of_dicts)\n",
    "\n",
    "# Se crean nuevas columnas con los valores extríados de los diccionarios de 'production_countries'\n",
    "df_movies['iso'] = df_movies['production_countries'].apply(lambda x: [d['iso_3166_1'] for d in x if isinstance(d, dict) and 'iso_3166_1' in d]if isinstance(x, list) else [])\n",
    "df_movies['prod_country_name'] = df_movies['production_countries'].apply(lambda x: [d['name'] for d in x if isinstance(d, dict) and 'name' in d]if isinstance(x, list) else [])\n",
    "\n",
    "# Se crean df temporales a partir de las listas de 'iso' y 'prod_country_name'\n",
    "# Luego 'stack' comvierte esas listas en valores individuales\n",
    "# Se concatenan los df temporales en uno solo que contendrá las columnas 'iso' y 'prod_country_name'\n",
    "temp_df = pd.concat([pd.DataFrame(df_movies['iso'].tolist(), index=df_movies.index).stack().reset_index(level=1, drop=True),\n",
    "                     pd.DataFrame(df_movies['prod_country_name'].tolist(), index=df_movies.index).stack().reset_index(level=1, drop=True)], axis=1)\n",
    "temp_df.columns = ['iso', 'prod_country_name']\n",
    "\n",
    "# Se une el df temporal con df_movies\n",
    "df_movies = df_movies.drop(columns=['iso', 'prod_country_name']).join(temp_df).reset_index(drop=True)\n",
    "\n",
    "print(df_movies[['prod_country_name', 'iso']].head(10))"
   ]
  },
  {
   "cell_type": "code",
   "execution_count": 33,
   "metadata": {},
   "outputs": [
    {
     "data": {
      "text/plain": [
       "(27319, 31)"
      ]
     },
     "execution_count": 33,
     "metadata": {},
     "output_type": "execute_result"
    }
   ],
   "source": [
    "df_movies.shape"
   ]
  },
  {
   "cell_type": "code",
   "execution_count": 34,
   "metadata": {},
   "outputs": [
    {
     "name": "stdout",
     "output_type": "stream",
     "text": [
      "prod_country_name    98\n",
      "iso                  98\n",
      "dtype: int64\n"
     ]
    }
   ],
   "source": [
    "# Se verifican los nulos existentes en cada nueva columna\n",
    "country_nulls = df_movies[['prod_country_name','iso']].isnull().sum()\n",
    "print(country_nulls)"
   ]
  },
  {
   "cell_type": "code",
   "execution_count": 35,
   "metadata": {},
   "outputs": [],
   "source": [
    "# Se eliminan los nulos de las columnas desanidadas\n",
    "df_movies.dropna(subset=['prod_country_name','iso'], inplace=True)"
   ]
  },
  {
   "cell_type": "code",
   "execution_count": 36,
   "metadata": {},
   "outputs": [],
   "source": [
    "# Se elimina la columna inicial que se desanidó\n",
    "df_movies = df_movies.drop(columns=['production_countries'])"
   ]
  },
  {
   "cell_type": "code",
   "execution_count": 37,
   "metadata": {},
   "outputs": [
    {
     "data": {
      "text/plain": [
       "(27221, 30)"
      ]
     },
     "execution_count": 37,
     "metadata": {},
     "output_type": "execute_result"
    }
   ],
   "source": [
    "df_movies.shape"
   ]
  },
  {
   "cell_type": "markdown",
   "metadata": {},
   "source": [
    "Desanidado de 'spoken_languages'"
   ]
  },
  {
   "cell_type": "code",
   "execution_count": 38,
   "metadata": {},
   "outputs": [
    {
     "name": "stdout",
     "output_type": "stream",
     "text": [
      "[<class 'str'>]\n"
     ]
    }
   ],
   "source": [
    "# Se verifican tipos de datos: 'str' indica que es una cadena JSON\n",
    "print(df_movies['spoken_languages'].apply(type).unique())"
   ]
  },
  {
   "cell_type": "code",
   "execution_count": 39,
   "metadata": {},
   "outputs": [
    {
     "name": "stdout",
     "output_type": "stream",
     "text": [
      "  language iso_language\n",
      "0  English           en\n",
      "1  English           en\n",
      "2  English           en\n",
      "3  English           en\n",
      "4  English           en\n",
      "5  English           en\n",
      "6  English           en\n",
      "7  English           en\n",
      "8  English           en\n",
      "9  English           en\n"
     ]
    }
   ],
   "source": [
    "\"\"\"Convertimos las listas de str a dict.\n",
    "  creamos las dos nuevas columnas 'genres_id' y 'genres_name' con sus valores\n",
    "  las concatenamos para formar un df temporal\n",
    "  y unimos el df temporal a df_movies\n",
    "    \"\"\"\n",
    "    \n",
    "def convert_to_list_of_dicts(x):\n",
    "    if isinstance(x, str):\n",
    "            return ast.literal_eval(x)\n",
    "    return x\n",
    "\n",
    "# Se aplica la funcion a la columna 'spoken_languages'\n",
    "df_movies['spoken_languages'] = df_movies['spoken_languages'].apply(convert_to_list_of_dicts)\n",
    "\n",
    "# Se crean nuevas columnas con los valores extríados de los diccionarios de 'spoken_languages'\n",
    "df_movies['iso_language'] = df_movies['spoken_languages'].apply(lambda x: [d['iso_639_1'] for d in x if isinstance(d, dict) and 'iso_639_1' in d])\n",
    "df_movies['language'] = df_movies['spoken_languages'].apply(lambda x: [d['name'] for d in x if isinstance(d, dict) and 'name' in d])\n",
    "\n",
    "# Se crean df temporales a partir de las listas de 'iso_language' y 'language'\n",
    "# Luego 'stack' comvierte esas listas en valores individuales\n",
    "# Se concatenan los df temporales en uno solo que contendrá las columnas 'iso_language' y 'language'\n",
    "temp_df = pd.concat([pd.DataFrame(df_movies['iso_language'].tolist(), index=df_movies.index).stack().reset_index(level=1, drop=True),\n",
    "                     pd.DataFrame(df_movies['language'].tolist(), index=df_movies.index).stack().reset_index(level=1, drop=True)], axis=1)\n",
    "temp_df.columns = ['iso_language', 'language']\n",
    "\n",
    "# Se une el df temporal con df_movies\n",
    "df_movies = df_movies.drop(columns=['iso_language', 'language']).join(temp_df).reset_index(drop=True)\n",
    "\n",
    "print(df_movies[['language', 'iso_language']].head(10))"
   ]
  },
  {
   "cell_type": "code",
   "execution_count": 40,
   "metadata": {},
   "outputs": [
    {
     "data": {
      "text/plain": [
       "(43746, 32)"
      ]
     },
     "execution_count": 40,
     "metadata": {},
     "output_type": "execute_result"
    }
   ],
   "source": [
    "df_movies.shape"
   ]
  },
  {
   "cell_type": "code",
   "execution_count": 41,
   "metadata": {},
   "outputs": [
    {
     "name": "stdout",
     "output_type": "stream",
     "text": [
      "language        39\n",
      "iso_language    39\n",
      "dtype: int64\n"
     ]
    }
   ],
   "source": [
    "# Se verifican los nulos existentes en cada nueva columna\n",
    "laguage_nulls = df_movies[['language','iso_language']].isnull().sum()\n",
    "print(laguage_nulls)"
   ]
  },
  {
   "cell_type": "code",
   "execution_count": 42,
   "metadata": {},
   "outputs": [],
   "source": [
    "# Se eliminan los nulos de las columnas desanidadas\n",
    "df_movies.dropna(subset=['language','iso_language'], inplace=True)"
   ]
  },
  {
   "cell_type": "code",
   "execution_count": 43,
   "metadata": {},
   "outputs": [],
   "source": [
    "# Se elimina la columna inicial que se desanidó\n",
    "df_movies = df_movies.drop(columns=['spoken_languages'])"
   ]
  },
  {
   "cell_type": "code",
   "execution_count": 44,
   "metadata": {},
   "outputs": [
    {
     "data": {
      "text/plain": [
       "(43707, 31)"
      ]
     },
     "execution_count": 44,
     "metadata": {},
     "output_type": "execute_result"
    }
   ],
   "source": [
    "df_movies.shape"
   ]
  },
  {
   "cell_type": "code",
   "execution_count": 45,
   "metadata": {},
   "outputs": [
    {
     "name": "stdout",
     "output_type": "stream",
     "text": [
      "revenue    float64\n",
      "budget      object\n",
      "dtype: object\n"
     ]
    }
   ],
   "source": [
    "# Se verifica el tipo de dato de las columnas 'revenue' y 'budget'\n",
    "print(df_movies[['revenue', 'budget']].dtypes)"
   ]
  },
  {
   "cell_type": "code",
   "execution_count": 46,
   "metadata": {},
   "outputs": [
    {
     "name": "stdout",
     "output_type": "stream",
     "text": [
      "[<class 'int'>]\n"
     ]
    }
   ],
   "source": [
    "# Se cambia el tipo de dato de la columna 'revenue' al tipo 'int'\n",
    "df_movies['revenue'] = df_movies['revenue'].astype(int)\n",
    "print(df_movies['revenue'].apply(type).unique())"
   ]
  },
  {
   "cell_type": "code",
   "execution_count": 47,
   "metadata": {},
   "outputs": [
    {
     "name": "stdout",
     "output_type": "stream",
     "text": [
      "[<class 'int'>]\n"
     ]
    }
   ],
   "source": [
    "# Se cambia el tipo de dato de la columna 'budget' al tipo 'int'\n",
    "df_movies['budget'] = df_movies['budget'].astype(int)\n",
    "print(df_movies['budget'].apply(type).unique())"
   ]
  },
  {
   "cell_type": "code",
   "execution_count": 48,
   "metadata": {},
   "outputs": [
    {
     "name": "stdout",
     "output_type": "stream",
     "text": [
      "revenue    int64\n",
      "budget     int64\n",
      "dtype: object\n"
     ]
    }
   ],
   "source": [
    "# Corroboro\n",
    "print(df_movies[['revenue', 'budget']].dtypes)"
   ]
  },
  {
   "cell_type": "code",
   "execution_count": 49,
   "metadata": {},
   "outputs": [
    {
     "name": "stdout",
     "output_type": "stream",
     "text": [
      "         revenue    budget\n",
      "0      373554033  30000000\n",
      "1      373554033  30000000\n",
      "2      373554033  30000000\n",
      "3              0         0\n",
      "4              0         0\n",
      "...          ...       ...\n",
      "43741          0         0\n",
      "43742          0         0\n",
      "43743          0         0\n",
      "43744          0         0\n",
      "43745          0         0\n",
      "\n",
      "[43707 rows x 2 columns]\n"
     ]
    }
   ],
   "source": [
    "# Valores nulos de los campos revenue, budget rellenados por el número 0.\n",
    "df_movies['revenue'].fillna(0)\n",
    "df_movies['budget'].fillna(0)\n",
    "\n",
    "print(df_movies[['revenue', 'budget']])"
   ]
  },
  {
   "cell_type": "code",
   "execution_count": 50,
   "metadata": {},
   "outputs": [],
   "source": [
    "# Se eliminan los valores nulos en 'release_date'\n",
    "df_movies.dropna(subset=['release_date'], inplace=True)\n"
   ]
  },
  {
   "cell_type": "code",
   "execution_count": 51,
   "metadata": {},
   "outputs": [
    {
     "name": "stdout",
     "output_type": "stream",
     "text": [
      "0\n"
     ]
    }
   ],
   "source": [
    "# Corroboro\n",
    "release_nulls = df_movies['release_date'].isnull().sum()\n",
    "print(release_nulls)"
   ]
  },
  {
   "cell_type": "code",
   "execution_count": 52,
   "metadata": {},
   "outputs": [
    {
     "data": {
      "text/plain": [
       "(43701, 31)"
      ]
     },
     "execution_count": 52,
     "metadata": {},
     "output_type": "execute_result"
    }
   ],
   "source": [
    "df_movies.shape"
   ]
  },
  {
   "cell_type": "code",
   "execution_count": 53,
   "metadata": {},
   "outputs": [
    {
     "name": "stdout",
     "output_type": "stream",
     "text": [
      "      release_date  release_year\n",
      "0       1995-10-30          1995\n",
      "1       1995-10-30          1995\n",
      "2       1995-10-30          1995\n",
      "3       1995-12-22          1995\n",
      "4       1995-12-22          1995\n",
      "...            ...           ...\n",
      "43741   1967-03-15          1967\n",
      "43742   1967-09-01          1967\n",
      "43743   1967-09-01          1967\n",
      "43744   1969-05-29          1969\n",
      "43745   1976-10-01          1976\n",
      "\n",
      "[43701 rows x 2 columns]\n"
     ]
    }
   ],
   "source": [
    "# Se convierte la columna 'release_date' a fecha y hora\n",
    "df_movies['release_date'] = pd.to_datetime(df_movies['release_date'], errors='coerce')\n",
    "\n",
    "# Se crea la columna 'release_year' conteniendo el año de estreno\n",
    "df_movies['release_year'] = df_movies['release_date'].dt.year.astype('Int64')\n",
    "\n",
    "print(df_movies[['release_date', 'release_year']])"
   ]
  },
  {
   "cell_type": "code",
   "execution_count": 54,
   "metadata": {},
   "outputs": [
    {
     "name": "stdout",
     "output_type": "stream",
     "text": [
      "release_date    datetime64[ns]\n",
      "release_year             Int64\n",
      "dtype: object\n"
     ]
    }
   ],
   "source": [
    "# Chequeo el tipo de datos de las columnas 'release_date' y 'release_year'\n",
    "print(df_movies[['release_date', 'release_year']].dtypes)"
   ]
  },
  {
   "cell_type": "code",
   "execution_count": 55,
   "metadata": {},
   "outputs": [
    {
     "data": {
      "text/plain": [
       "(43701, 32)"
      ]
     },
     "execution_count": 55,
     "metadata": {},
     "output_type": "execute_result"
    }
   ],
   "source": [
    "df_movies.shape"
   ]
  },
  {
   "cell_type": "code",
   "execution_count": 56,
   "metadata": {},
   "outputs": [
    {
     "name": "stdout",
     "output_type": "stream",
     "text": [
      "         revenue    budget     return\n",
      "0      373554033  30000000  12.451801\n",
      "1      373554033  30000000  12.451801\n",
      "2      373554033  30000000  12.451801\n",
      "3              0         0   0.000000\n",
      "4              0         0   0.000000\n",
      "...          ...       ...        ...\n",
      "43741          0         0   0.000000\n",
      "43742          0         0   0.000000\n",
      "43743          0         0   0.000000\n",
      "43744          0         0   0.000000\n",
      "43745          0         0   0.000000\n",
      "\n",
      "[43701 rows x 3 columns]\n"
     ]
    },
    {
     "name": "stderr",
     "output_type": "stream",
     "text": [
      "C:\\Users\\debor\\AppData\\Local\\Temp\\ipykernel_5096\\828371204.py:3: FutureWarning: A value is trying to be set on a copy of a DataFrame or Series through chained assignment using an inplace method.\n",
      "The behavior will change in pandas 3.0. This inplace method will never work because the intermediate object on which we are setting values always behaves as a copy.\n",
      "\n",
      "For example, when doing 'df[col].method(value, inplace=True)', try using 'df.method({col: value}, inplace=True)' or df[col] = df[col].method(value) instead, to perform the operation inplace on the original object.\n",
      "\n",
      "\n",
      "  df_movies['return'].fillna(0, inplace=True)  # Se rellenan los valores nulos con 0\n"
     ]
    }
   ],
   "source": [
    "# Calculo del retorno y se crea la columna 'return'\n",
    "df_movies['return'] = df_movies['revenue'] / df_movies['budget']\n",
    "df_movies['return'].fillna(0, inplace=True)  # Se rellenan los valores nulos con 0\n",
    "\n",
    "print(df_movies[['revenue', 'budget', 'return']])\n"
   ]
  },
  {
   "cell_type": "code",
   "execution_count": 57,
   "metadata": {},
   "outputs": [
    {
     "data": {
      "text/plain": [
       "(43701, 27)"
      ]
     },
     "execution_count": 57,
     "metadata": {},
     "output_type": "execute_result"
    }
   ],
   "source": [
    "# Se eliminan las columnas que no serán utilizadas\n",
    "columnas_a_descartar = ['video', 'imdb_id', 'adult', 'original_title','poster_path', 'homepage' ]\n",
    "df_movies = df_movies.drop(columns=columnas_a_descartar)\n",
    "df_movies.shape\n"
   ]
  },
  {
   "cell_type": "code",
   "execution_count": 58,
   "metadata": {},
   "outputs": [
    {
     "name": "stdout",
     "output_type": "stream",
     "text": [
      "budget                        0\n",
      "id                            0\n",
      "original_language             0\n",
      "overview                     40\n",
      "popularity                    0\n",
      "release_date                  0\n",
      "revenue                       0\n",
      "runtime                       6\n",
      "status                        0\n",
      "tagline                   11402\n",
      "title                         0\n",
      "vote_average                  0\n",
      "vote_count                    0\n",
      "collection_id                 0\n",
      "collection_name               0\n",
      "poster_path_collection      159\n",
      "backdrop_path                 0\n",
      "genres_id                     0\n",
      "genres_name                   0\n",
      "prod_comp_name                0\n",
      "prod_comp_id                  0\n",
      "iso                           0\n",
      "prod_country_name             0\n",
      "iso_language                  0\n",
      "language                      0\n",
      "release_year                  0\n",
      "return                        0\n",
      "dtype: int64\n"
     ]
    }
   ],
   "source": [
    "# Se verifica si quedan nulos\n",
    "nulls = df_movies[['budget', 'id', 'original_language', 'overview', 'popularity',\n",
    "       'release_date', 'revenue', 'runtime', 'status', 'tagline', 'title',\n",
    "       'vote_average', 'vote_count', 'collection_id', 'collection_name',\n",
    "       'poster_path_collection', 'backdrop_path', 'genres_id', 'genres_name',\n",
    "       'prod_comp_name', 'prod_comp_id', 'iso', 'prod_country_name',\n",
    "       'iso_language', 'language', 'release_year', 'return']].isnull().sum()\n",
    "print(nulls)"
   ]
  },
  {
   "cell_type": "code",
   "execution_count": 59,
   "metadata": {},
   "outputs": [],
   "source": [
    "# Se eliminan los nulos\n",
    "df_movies.dropna(subset=['overview','tagline','poster_path_collection'], inplace=True)"
   ]
  },
  {
   "cell_type": "code",
   "execution_count": 60,
   "metadata": {},
   "outputs": [],
   "source": [
    "# Se le cambia el nombre a la columna 'id' a 'id_movie'\n",
    "df_movies.rename(columns={'id': 'id_movie'}, inplace=True)"
   ]
  },
  {
   "cell_type": "code",
   "execution_count": 61,
   "metadata": {},
   "outputs": [
    {
     "data": {
      "text/plain": [
       "(32189, 27)"
      ]
     },
     "execution_count": 61,
     "metadata": {},
     "output_type": "execute_result"
    }
   ],
   "source": [
    "df_movies.shape"
   ]
  },
  {
   "cell_type": "code",
   "execution_count": 62,
   "metadata": {},
   "outputs": [],
   "source": [
    "# Se le cambia el tipod e dato a la columna 'id_movie' a 'int'\n",
    "df_movies['id_movie'] = df_movies['id_movie'].astype(int)"
   ]
  },
  {
   "cell_type": "code",
   "execution_count": 63,
   "metadata": {},
   "outputs": [],
   "source": [
    "df_movies.to_parquet(r'Movies\\df_movies_mod.parquet', engine='auto', compression='snappy')"
   ]
  },
  {
   "cell_type": "markdown",
   "metadata": {},
   "source": [
    "Credits"
   ]
  },
  {
   "cell_type": "code",
   "execution_count": 64,
   "metadata": {},
   "outputs": [],
   "source": [
    "df_credits = pd.read_csv(r'Movies\\credits.csv')"
   ]
  },
  {
   "cell_type": "markdown",
   "metadata": {},
   "source": [
    "Desanidado de 'Cast'"
   ]
  },
  {
   "cell_type": "code",
   "execution_count": 65,
   "metadata": {},
   "outputs": [
    {
     "data": {
      "text/plain": [
       "(45476, 3)"
      ]
     },
     "execution_count": 65,
     "metadata": {},
     "output_type": "execute_result"
    }
   ],
   "source": [
    "df_credits.shape"
   ]
  },
  {
   "cell_type": "code",
   "execution_count": 66,
   "metadata": {},
   "outputs": [
    {
     "name": "stdout",
     "output_type": "stream",
     "text": [
      "             character_new         actor_name\n",
      "0            Woody (voice)          Tom Hanks\n",
      "1   Buzz Lightyear (voice)          Tim Allen\n",
      "2  Mr. Potato Head (voice)        Don Rickles\n",
      "3       Slinky Dog (voice)         Jim Varney\n",
      "4              Rex (voice)      Wallace Shawn\n",
      "5             Hamm (voice)  John Ratzenberger\n",
      "6          Bo Peep (voice)        Annie Potts\n",
      "7             Andy (voice)        John Morris\n",
      "8              Sid (voice)    Erik von Detten\n",
      "9       Mrs. Davis (voice)     Laurie Metcalf\n"
     ]
    }
   ],
   "source": [
    "\"\"\"Se convierten las listas de str JSON a lista de dict.\n",
    "  Se crean dos nuevas columnas: 'character' y 'genres_name' con sus valores,\n",
    "  las concatenamos para formar un df temporal\n",
    "  y unimos el df temporal a df_movies\n",
    "    \"\"\"\n",
    "    \n",
    "def convert_to_list_of_dicts(x):\n",
    "    if isinstance(x, str):\n",
    "            return ast.literal_eval(x)\n",
    "    return x\n",
    "\n",
    "# Se aplica la función a la columna 'cast'\n",
    "df_credits['cast'] = df_credits['cast'].apply(convert_to_list_of_dicts)\n",
    "\n",
    "# Se extraen los valores de 'character' y 'name' y se crean dos nuevas columnas de listas\n",
    "df_credits['character'] = df_credits['cast'].apply(lambda x: [d['character'] for d in x if isinstance(d, dict) and 'character' in d])\n",
    "df_credits['name'] = df_credits['cast'].apply(lambda x: [d['name'] for d in x if isinstance(d, dict) and 'name' in d])\n",
    "\n",
    "# Las listas se pasan a df\n",
    "character_df = pd.DataFrame(df_credits['character'].tolist(), index=df_credits.index).stack().reset_index(level=1, drop=True)\n",
    "name_df = pd.DataFrame(df_credits['name'].tolist(), index=df_credits.index).stack().reset_index(level=1, drop=True)\n",
    "\n",
    "# Se concatenan esos df y crean un solo df temporal y se renombran las columnas\n",
    "temp_df = pd.concat([character_df, name_df], axis=1)\n",
    "temp_df.columns = ['character_new', 'actor_name']\n",
    "\n",
    "# Se une el df temporal a df_credits\n",
    "df_credits = df_credits.join(temp_df).reset_index(drop=True)\n",
    "\n",
    "print(df_credits[['character_new', 'actor_name']].head(10))"
   ]
  },
  {
   "cell_type": "code",
   "execution_count": 67,
   "metadata": {},
   "outputs": [
    {
     "data": {
      "text/plain": [
       "(564892, 7)"
      ]
     },
     "execution_count": 67,
     "metadata": {},
     "output_type": "execute_result"
    }
   ],
   "source": [
    "df_credits.shape"
   ]
  },
  {
   "cell_type": "code",
   "execution_count": 68,
   "metadata": {},
   "outputs": [
    {
     "name": "stdout",
     "output_type": "stream",
     "text": [
      "character_new    2418\n",
      "actor_name       2418\n",
      "dtype: int64\n"
     ]
    }
   ],
   "source": [
    "# Se verifican los nulos existentes en cada nueva columna\n",
    "cast_nulls = df_credits[['character_new', 'actor_name']].isnull().sum()\n",
    "print(cast_nulls)"
   ]
  },
  {
   "cell_type": "code",
   "execution_count": 69,
   "metadata": {},
   "outputs": [],
   "source": [
    "# Se eliminan los nulos\n",
    "df_credits.dropna(subset=['character_new','actor_name'], inplace=True)"
   ]
  },
  {
   "cell_type": "code",
   "execution_count": 70,
   "metadata": {},
   "outputs": [],
   "source": [
    "df_credits = df_credits.drop(columns=['cast','character','name'])"
   ]
  },
  {
   "cell_type": "code",
   "execution_count": 71,
   "metadata": {},
   "outputs": [
    {
     "data": {
      "text/plain": [
       "(562474, 4)"
      ]
     },
     "execution_count": 71,
     "metadata": {},
     "output_type": "execute_result"
    }
   ],
   "source": [
    "df_credits.shape"
   ]
  },
  {
   "cell_type": "markdown",
   "metadata": {},
   "source": [
    "Desanidado de 'crew'"
   ]
  },
  {
   "cell_type": "code",
   "execution_count": 72,
   "metadata": {},
   "outputs": [
    {
     "name": "stdout",
     "output_type": "stream",
     "text": [
      "      director_name        crew_job_new\n",
      "0     John Lasseter            Director\n",
      "1       Joss Whedon          Screenplay\n",
      "2    Andrew Stanton          Screenplay\n",
      "3        Joel Cohen          Screenplay\n",
      "4      Alec Sokolow          Screenplay\n",
      "5     Bonnie Arnold            Producer\n",
      "6        Ed Catmull  Executive Producer\n",
      "7  Ralph Guggenheim            Producer\n",
      "8        Steve Jobs  Executive Producer\n",
      "9       Lee Unkrich              Editor\n"
     ]
    }
   ],
   "source": [
    "def convert_to_list_of_dicts(x):\n",
    "    if isinstance(x, str):\n",
    "            return ast.literal_eval(x)\n",
    "    return x\n",
    "\n",
    "df_credits['crew'] = df_credits['crew'].apply(convert_to_list_of_dicts)\n",
    "\n",
    "df_credits['crew_name'] = df_credits['crew'].apply(lambda x: [d['name'] for d in x if isinstance(d, dict) and 'name' in d])\n",
    "df_credits['crew_job'] = df_credits['crew'].apply(lambda x: [d['job'] for d in x if isinstance(d, dict) and 'job' in d])\n",
    "\n",
    "crew_name_df = pd.DataFrame(df_credits['crew_name'].tolist(), index=df_credits.index).stack().reset_index(level=1, drop=True)\n",
    "crew_job_df = pd.DataFrame(df_credits['crew_job'].tolist(), index=df_credits.index).stack().reset_index(level=1, drop=True)\n",
    "\n",
    "temp_df = pd.concat([crew_name_df, crew_job_df], axis=1)\n",
    "temp_df.columns = ['director_name', 'crew_job_new']\n",
    "\n",
    "df_credits = df_credits.join(temp_df).reset_index(drop=True)\n",
    "\n",
    "print(df_credits[['director_name', 'crew_job_new']].head(10))"
   ]
  },
  {
   "cell_type": "code",
   "execution_count": 73,
   "metadata": {},
   "outputs": [
    {
     "data": {
      "text/plain": [
       "(9479469, 8)"
      ]
     },
     "execution_count": 73,
     "metadata": {},
     "output_type": "execute_result"
    }
   ],
   "source": [
    "df_credits.shape"
   ]
  },
  {
   "cell_type": "code",
   "execution_count": 75,
   "metadata": {},
   "outputs": [
    {
     "name": "stdout",
     "output_type": "stream",
     "text": [
      "director_name    1806\n",
      "crew_job_new     1806\n",
      "dtype: int64\n"
     ]
    }
   ],
   "source": [
    "credits_nulls = df_credits[['director_name','crew_job_new']].isnull().sum()\n",
    "print(credits_nulls)"
   ]
  },
  {
   "cell_type": "code",
   "execution_count": 76,
   "metadata": {},
   "outputs": [],
   "source": [
    "df_credits.dropna(subset=['director_name','crew_job_new'], inplace=True)"
   ]
  },
  {
   "cell_type": "code",
   "execution_count": 77,
   "metadata": {},
   "outputs": [],
   "source": [
    "df_credits = df_credits.drop(columns=['crew','crew_name','crew_job'])"
   ]
  },
  {
   "cell_type": "code",
   "execution_count": 78,
   "metadata": {},
   "outputs": [
    {
     "data": {
      "text/plain": [
       "(9477663, 5)"
      ]
     },
     "execution_count": 78,
     "metadata": {},
     "output_type": "execute_result"
    }
   ],
   "source": [
    "df_credits.shape"
   ]
  },
  {
   "cell_type": "code",
   "execution_count": 79,
   "metadata": {},
   "outputs": [],
   "source": [
    "# Se le cambia el nombre a la columna 'id' a 'id_movie_credits'\n",
    "df_credits.rename(columns={'id': 'id_movie_credits'}, inplace=True)"
   ]
  },
  {
   "cell_type": "code",
   "execution_count": 80,
   "metadata": {},
   "outputs": [
    {
     "data": {
      "text/html": [
       "<div>\n",
       "<style scoped>\n",
       "    .dataframe tbody tr th:only-of-type {\n",
       "        vertical-align: middle;\n",
       "    }\n",
       "\n",
       "    .dataframe tbody tr th {\n",
       "        vertical-align: top;\n",
       "    }\n",
       "\n",
       "    .dataframe thead th {\n",
       "        text-align: right;\n",
       "    }\n",
       "</style>\n",
       "<table border=\"1\" class=\"dataframe\">\n",
       "  <thead>\n",
       "    <tr style=\"text-align: right;\">\n",
       "      <th></th>\n",
       "      <th>id_movie_credits</th>\n",
       "      <th>character_new</th>\n",
       "      <th>actor_name</th>\n",
       "      <th>director_name</th>\n",
       "      <th>crew_job_new</th>\n",
       "    </tr>\n",
       "  </thead>\n",
       "  <tbody>\n",
       "    <tr>\n",
       "      <th>0</th>\n",
       "      <td>862</td>\n",
       "      <td>Woody (voice)</td>\n",
       "      <td>Tom Hanks</td>\n",
       "      <td>John Lasseter</td>\n",
       "      <td>Director</td>\n",
       "    </tr>\n",
       "  </tbody>\n",
       "</table>\n",
       "</div>"
      ],
      "text/plain": [
       "   id_movie_credits  character_new actor_name  director_name crew_job_new\n",
       "0               862  Woody (voice)  Tom Hanks  John Lasseter     Director"
      ]
     },
     "execution_count": 80,
     "metadata": {},
     "output_type": "execute_result"
    }
   ],
   "source": [
    "df_credits.head(1)"
   ]
  },
  {
   "cell_type": "code",
   "execution_count": 81,
   "metadata": {},
   "outputs": [],
   "source": [
    "df_credits.to_parquet(r'Movies\\df_credits_mod.parquet', engine='auto', compression='snappy')"
   ]
  },
  {
   "cell_type": "markdown",
   "metadata": {},
   "source": [
    "Creación de un nuevo DataFrame con la data necesaria de 'credits' para la función get_director()"
   ]
  },
  {
   "cell_type": "code",
   "execution_count": 87,
   "metadata": {},
   "outputs": [],
   "source": [
    "credits_director = pd.read_parquet(r'Movies\\df_credits_mod.parquet', engine='auto')"
   ]
  },
  {
   "cell_type": "code",
   "execution_count": 88,
   "metadata": {},
   "outputs": [],
   "source": [
    "# Se filtra el df 'credits_director' para obtener solo los directores\n",
    "credits_director = credits_director[credits_director['crew_job_new'] == 'Director']"
   ]
  },
  {
   "cell_type": "code",
   "execution_count": 89,
   "metadata": {},
   "outputs": [],
   "source": [
    "# Se seleccionan las columnas 'id_movie_credits' y 'director_name'\n",
    "credits_director = credits_director[['id_movie_credits', 'director_name']]"
   ]
  },
  {
   "cell_type": "code",
   "execution_count": 90,
   "metadata": {},
   "outputs": [],
   "source": [
    "# Se renombra la columna 'id_movie_credits'\n",
    "credits_director = credits_director.rename(columns={'id_movie_credits': 'id_movie'})"
   ]
  },
  {
   "cell_type": "code",
   "execution_count": 93,
   "metadata": {},
   "outputs": [],
   "source": [
    "# Se borran duplicados\n",
    "credits_director = credits_director.drop_duplicates(subset='id_movie')"
   ]
  },
  {
   "cell_type": "code",
   "execution_count": 94,
   "metadata": {},
   "outputs": [
    {
     "name": "stdout",
     "output_type": "stream",
     "text": [
      "         id_movie     director_name\n",
      "0             862     John Lasseter\n",
      "1381         8844      Joe Johnston\n",
      "1794        15602     Howard Deutch\n",
      "1822        31357   Forest Whitaker\n",
      "1927        11862     Charles Shyer\n",
      "...           ...               ...\n",
      "9479246     30840        John Irvin\n",
      "9479291    439050  Hamid Nematollah\n",
      "9479318    111109          Lav Diaz\n",
      "9479384     67758    Mark L. Lester\n",
      "9479459    227506  Yakov Protazanov\n",
      "\n",
      "[42568 rows x 2 columns]\n"
     ]
    }
   ],
   "source": [
    "print(credits_director)\n"
   ]
  },
  {
   "cell_type": "code",
   "execution_count": 95,
   "metadata": {},
   "outputs": [],
   "source": [
    "# Se cambia el tipode dato de la columna 'id_movie' a 'int'\n",
    "credits_director['id_movie'] = credits_director['id_movie'].astype(int)"
   ]
  },
  {
   "cell_type": "code",
   "execution_count": 96,
   "metadata": {},
   "outputs": [],
   "source": [
    "credits_director.to_parquet(r'Movies\\df_credits_director.parquet', engine='auto', compression='snappy')"
   ]
  },
  {
   "cell_type": "markdown",
   "metadata": {},
   "source": [
    "Creación de un nuevo DataFrame con la data necesaria de 'credits' para la función get_actor()"
   ]
  },
  {
   "cell_type": "code",
   "execution_count": 97,
   "metadata": {},
   "outputs": [],
   "source": [
    "credits_actor = pd.read_parquet(r'Movies\\df_credits_mod.parquet', engine='auto')"
   ]
  },
  {
   "cell_type": "code",
   "execution_count": 99,
   "metadata": {},
   "outputs": [],
   "source": [
    "# Se filtra el df 'credits_actor' para obtener solo las filas con información de actores\n",
    "credits_actor = credits_actor[['id_movie_credits', 'actor_name']]"
   ]
  },
  {
   "cell_type": "code",
   "execution_count": 100,
   "metadata": {},
   "outputs": [],
   "source": [
    "# Se renombra la columna \n",
    "credits_actor = credits_actor.rename(columns={'id_movie_credits': 'id_movie'})"
   ]
  },
  {
   "cell_type": "code",
   "execution_count": 104,
   "metadata": {},
   "outputs": [],
   "source": [
    "# Eliminar filas donde 'actor' es NaN o vacío \n",
    "credits_actor = credits_actor.dropna(subset=['actor_name'])"
   ]
  },
  {
   "cell_type": "code",
   "execution_count": 105,
   "metadata": {},
   "outputs": [],
   "source": [
    "credits_actor = credits_actor.drop_duplicates(subset='id_movie')"
   ]
  },
  {
   "cell_type": "code",
   "execution_count": 106,
   "metadata": {},
   "outputs": [
    {
     "name": "stdout",
     "output_type": "stream",
     "text": [
      "         id_movie        actor_name\n",
      "0             862         Tom Hanks\n",
      "1378         8844    Robin Williams\n",
      "1794        15602    Walter Matthau\n",
      "1822        31357   Whitney Houston\n",
      "1922        11862      Steve Martin\n",
      "...           ...               ...\n",
      "9479246     30840    Patrick Bergin\n",
      "9479291    439050      Leila Hatami\n",
      "9479318    111109      Angel Aquino\n",
      "9479384     67758     Erika Eleniak\n",
      "9479459    227506  Iwan Mosschuchin\n",
      "\n",
      "[42668 rows x 2 columns]\n"
     ]
    }
   ],
   "source": [
    "print(credits_actor)"
   ]
  },
  {
   "cell_type": "code",
   "execution_count": 107,
   "metadata": {},
   "outputs": [],
   "source": [
    "# Se cambia el tipo de dato de la columna 'id_movie' a 'int'\n",
    "credits_actor['id_movie'] = credits_actor['id_movie'].astype(int)"
   ]
  },
  {
   "cell_type": "code",
   "execution_count": 108,
   "metadata": {},
   "outputs": [],
   "source": [
    "credits_actor.to_parquet(r'Movies\\df_credits_actor.parquet', engine='auto', compression='snappy')"
   ]
  }
 ],
 "metadata": {
  "kernelspec": {
   "display_name": "venv",
   "language": "python",
   "name": "python3"
  },
  "language_info": {
   "codemirror_mode": {
    "name": "ipython",
    "version": 3
   },
   "file_extension": ".py",
   "mimetype": "text/x-python",
   "name": "python",
   "nbconvert_exporter": "python",
   "pygments_lexer": "ipython3",
   "version": "3.12.6"
  }
 },
 "nbformat": 4,
 "nbformat_minor": 2
}
